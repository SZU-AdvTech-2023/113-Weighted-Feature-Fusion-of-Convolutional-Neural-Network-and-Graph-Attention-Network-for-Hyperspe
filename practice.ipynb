{
 "cells": [
  {
   "cell_type": "code",
   "execution_count": 1,
   "id": "initial_id",
   "metadata": {
    "collapsed": true,
    "ExecuteTime": {
     "end_time": "2023-11-28T07:46:28.945466200Z",
     "start_time": "2023-11-28T07:46:28.878572200Z"
    }
   },
   "outputs": [],
   "source": [
    "import numpy as np\n",
    "output=np.random.random((3,5))"
   ]
  },
  {
   "cell_type": "code",
   "execution_count": 2,
   "outputs": [
    {
     "data": {
      "text/plain": "array([[0.16952383, 0.64954037, 0.36312631, 0.81542942, 0.71401621],\n       [0.72130452, 0.57559657, 0.50821307, 0.85983843, 0.53985066],\n       [0.92876156, 0.75604881, 0.32441249, 0.19187783, 0.87904437]])"
     },
     "execution_count": 2,
     "metadata": {},
     "output_type": "execute_result"
    }
   ],
   "source": [
    "output"
   ],
   "metadata": {
    "collapsed": false,
    "ExecuteTime": {
     "end_time": "2023-11-28T07:46:31.478590300Z",
     "start_time": "2023-11-28T07:46:31.471607900Z"
    }
   },
   "id": "ec44d7af813661c3"
  },
  {
   "cell_type": "code",
   "execution_count": 3,
   "outputs": [],
   "source": [
    "max_indices=np.argmax(output,axis=1)"
   ],
   "metadata": {
    "collapsed": false,
    "ExecuteTime": {
     "end_time": "2023-11-28T07:46:56.436173700Z",
     "start_time": "2023-11-28T07:46:56.424221400Z"
    }
   },
   "id": "b01c51a14995855d"
  },
  {
   "cell_type": "code",
   "execution_count": 4,
   "outputs": [
    {
     "data": {
      "text/plain": "array([3, 3, 0])"
     },
     "execution_count": 4,
     "metadata": {},
     "output_type": "execute_result"
    }
   ],
   "source": [
    "max_indices"
   ],
   "metadata": {
    "collapsed": false,
    "ExecuteTime": {
     "end_time": "2023-11-28T07:46:58.574250100Z",
     "start_time": "2023-11-28T07:46:58.556298700Z"
    }
   },
   "id": "6a8a5b36857ca5c"
  },
  {
   "cell_type": "code",
   "execution_count": null,
   "outputs": [],
   "source": [],
   "metadata": {
    "collapsed": false
   },
   "id": "256354a9c2c59df8"
  }
 ],
 "metadata": {
  "kernelspec": {
   "display_name": "Python 3",
   "language": "python",
   "name": "python3"
  },
  "language_info": {
   "codemirror_mode": {
    "name": "ipython",
    "version": 2
   },
   "file_extension": ".py",
   "mimetype": "text/x-python",
   "name": "python",
   "nbconvert_exporter": "python",
   "pygments_lexer": "ipython2",
   "version": "2.7.6"
  }
 },
 "nbformat": 4,
 "nbformat_minor": 5
}
